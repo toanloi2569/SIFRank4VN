{
 "cells": [
  {
   "cell_type": "code",
   "execution_count": 1,
   "metadata": {},
   "outputs": [],
   "source": [
    "import time\n",
    "import os\n",
    "\n",
    "from vncorenlp import VnCoreNLP\n",
    "from embeddings import sent_emb_sif, word_emb_phoBert\n",
    "from model.method import SIFRank, SIFRank_plus"
   ]
  },
  {
   "cell_type": "code",
   "execution_count": 2,
   "metadata": {},
   "outputs": [],
   "source": [
    "path = os.path.dirname(os.path.realpath('__file__'))\n",
    "vncorenlp = VnCoreNLP(\n",
    "    path+\"/auxiliary_data/VnCoreNLP-master/VnCoreNLP-1.1.1.jar\", \n",
    "    annotators=\"wseg, pos\", \n",
    "    max_heap_size='-Xmx500m'\n",
    ") "
   ]
  },
  {
   "cell_type": "code",
   "execution_count": 3,
   "metadata": {},
   "outputs": [
    {
     "name": "stdout",
     "output_type": "stream",
     "text": [
      "loading archive file auxiliary_data/PhoBERT_base_fairseq\n",
      "| dictionary: 64000 types\n"
     ]
    }
   ],
   "source": [
    "phoBERT = word_emb_phoBert.WordEmbeddings()\n",
    "SIF = sent_emb_sif.SentEmbeddings(phoBERT, lamda=1.0, embeddings_type='bert')"
   ]
  },
  {
   "cell_type": "code",
   "execution_count": 4,
   "metadata": {},
   "outputs": [],
   "source": [
    "text = '''\n",
    "Các chuyên gia cho biết, thỏa thuận cắt giảm thuế sẽ thúc đẩy đầu tư của châu Âu vào Việt Nam - một trong những điểm đến hàng đầu tại Châu Á.\n",
    "'''"
   ]
  },
  {
   "cell_type": "code",
   "execution_count": 9,
   "metadata": {},
   "outputs": [],
   "source": [
    "import re\n",
    "keyphrases = SIFRank(text, SIF, vncorenlp, N=15, if_DS=True)"
   ]
  },
  {
   "cell_type": "code",
   "execution_count": 10,
   "metadata": {},
   "outputs": [
    {
     "name": "stdout",
     "output_type": "stream",
     "text": [
      "('thoả_thuận cắt_giảm thuế', 0.9188440595882968)\n",
      "('thúc_đẩy đầu_tư', 0.8669291950635101)\n",
      "('châu_âu', 0.8652575760430032)\n",
      "('chuyên_gia', 0.805417021007925)\n",
      "('hàng_đầu', 0.7933426352480482)\n",
      "('việt_nam', 0.7807122069704907)\n",
      "('châu á.', 0.6325522339887246)\n"
     ]
    }
   ],
   "source": [
    "for k in keyphrases:\n",
    "    print (k)"
   ]
  },
  {
   "cell_type": "code",
   "execution_count": 11,
   "metadata": {},
   "outputs": [
    {
     "data": {
      "text/plain": [
       "[[('ayern', 'N'),\n",
       "  ('Munich', 'Np'),\n",
       "  ('dễ_dàng', 'A'),\n",
       "  ('đánh_bại', 'V'),\n",
       "  ('đội', 'N'),\n",
       "  ('khách', 'N'),\n",
       "  ('Frankfurt', 'Np'),\n",
       "  ('với', 'E'),\n",
       "  ('tỷ_số', 'N'),\n",
       "  ('đậm', 'A'),\n",
       "  ('để', 'E'),\n",
       "  ('giữ', 'V'),\n",
       "  ('vững', 'A'),\n",
       "  ('ngôi', 'Nc'),\n",
       "  ('đầu_bảng', 'N'),\n",
       "  ('ở', 'E'),\n",
       "  ('Bundesliga', 'Np'),\n",
       "  ('.', 'CH')],\n",
       " [('Sau', 'E'),\n",
       "  ('27', 'M'),\n",
       "  ('vòng', 'N'),\n",
       "  ('đấu', 'V'),\n",
       "  (',', 'CH'),\n",
       "  ('\"', 'CH'),\n",
       "  ('Hùm', 'Np'),\n",
       "  ('xám', 'A'),\n",
       "  ('\"', 'CH'),\n",
       "  ('đã', 'R'),\n",
       "  ('giành', 'V'),\n",
       "  ('được', 'R'),\n",
       "  ('61', 'M'),\n",
       "  ('điểm', 'N'),\n",
       "  (',', 'CH'),\n",
       "  ('cách', 'V'),\n",
       "  ('đội', 'N'),\n",
       "  ('nhì', 'M'),\n",
       "  ('bảng', 'N'),\n",
       "  ('Dortmund', 'Np'),\n",
       "  ('4', 'M'),\n",
       "  ('điểm', 'N'),\n",
       "  ('.', 'CH')]]"
      ]
     },
     "execution_count": 11,
     "metadata": {},
     "output_type": "execute_result"
    }
   ],
   "source": [
    "vncorenlp.pos_tag(text)"
   ]
  },
  {
   "cell_type": "code",
   "execution_count": null,
   "metadata": {},
   "outputs": [],
   "source": []
  }
 ],
 "metadata": {
  "kernelspec": {
   "display_name": "sifrank",
   "language": "python",
   "name": "sifrank"
  },
  "language_info": {
   "codemirror_mode": {
    "name": "ipython",
    "version": 3
   },
   "file_extension": ".py",
   "mimetype": "text/x-python",
   "name": "python",
   "nbconvert_exporter": "python",
   "pygments_lexer": "ipython3",
   "version": "3.7.7"
  }
 },
 "nbformat": 4,
 "nbformat_minor": 2
}
