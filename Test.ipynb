{
 "cells": [
  {
   "cell_type": "code",
   "execution_count": 1,
   "metadata": {},
   "outputs": [],
   "source": [
    "import time\n",
    "import os\n",
    "\n",
    "from vncorenlp import VnCoreNLP\n",
    "from embeddings import sent_emb_sif, word_emb_phoBert\n",
    "from model.method import SIFRank, SIFRank_plus"
   ]
  },
  {
   "cell_type": "code",
   "execution_count": 2,
   "metadata": {},
   "outputs": [],
   "source": [
    "path = os.path.dirname(os.path.realpath('__file__'))\n",
    "vncorenlp = VnCoreNLP(\n",
    "    path+\"/auxiliary_data/VnCoreNLP-master/VnCoreNLP-1.1.1.jar\", \n",
    "    annotators=\"wseg, pos\", \n",
    "    max_heap_size='-Xmx500m'\n",
    ") "
   ]
  },
  {
   "cell_type": "code",
   "execution_count": 3,
   "metadata": {},
   "outputs": [
    {
     "name": "stdout",
     "output_type": "stream",
     "text": [
      "loading archive file auxiliary_data/PhoBERT_base_fairseq\n",
      "| dictionary: 64000 types\n"
     ]
    }
   ],
   "source": [
    "phoBERT = word_emb_phoBert.WordEmbeddings()\n",
    "SIF = sent_emb_sif.SentEmbeddings(phoBERT, lamda=1.0, embeddings_type='bert')"
   ]
  },
  {
   "cell_type": "code",
   "execution_count": 20,
   "metadata": {},
   "outputs": [],
   "source": [
    "text = '''\n",
    "    Cảnh báo tác động của nắng nóng: Do ảnh hưởng của nắng nóng và nắng nóng gay gắt kết hợp với độ ẩm trong không khí giảm thấp và gió Tây Nam gây hiệu ứng phơn thổi mạnh nên có nhiều nguy cơ xảy ra cháy nổ và hỏa hoạn ở khu vực dân cư do nhu cầu sử dụng điện tăng cao và nguy cơ cao cháy rừng ở các tỉnh Trung Bộ. Ngoài ra, nắng nóng còn có thể gây tình trạng mất nước, kiệt sức, đột quỵ do sốc nhiệt đối với cơ thể người khi tiếp xúc lâu với nền nhiệt độ cao.  \n",
    "\n",
    "Hôm nay, chỉ số tia UV ở Hà Nội và Đà Nẵng có giá trị từ 7-9 với mức ảnh hưởng nguy cơ gây hại cao đến rất cao đối với cơ thể con người khi tiếp xúc trực tiếp với ánh nắng. \n",
    "\n",
    "Cấp độ rủi ro thiên tai do nắng nóng: cấp 1.\n",
    "\n",
    "Cảnh báo mưa giông, gió giật mạnh\n",
    "\n",
    "Dự báo, do ảnh hưởng của vùng hội tụ gió trên cao nên đêm nay và sáng mai (7/6) ở Bắc Bộ có mưa rào và giông rải rác; vùng núi và trung du Bắc Bộ có mưa vừa, mưa to, riêng các tỉnh Lai Châu, Điện Biên, Lào Cai, Hà Giang, Tuyên Quang, Cao Bằng cục bộ có mưa rất to (thời gian mưa lớn tập trung vào đêm và sáng sớm với lượng mưa phổ biến 20-40mm/12h, có nơi trên 80mm/12h). Trong mưa giông có khả năng xảy ra lốc, sét, mưa đá và gió giật mạnh.\n",
    "\n",
    "Khu vực Hà Nội, đêm có lúc có mưa rào và giông; trong mưa giông có khả năng xảy ra lốc, sét, mưa đá và gió giật mạnh.                               \n",
    "\n",
    "Cấp độ rủi ro thiên tai do lốc, sét, mưa đá: cấp 1.\n",
    "'''"
   ]
  },
  {
   "cell_type": "code",
   "execution_count": 21,
   "metadata": {},
   "outputs": [],
   "source": [
    "import re\n",
    "keyphrases = SIFRank(text, SIF, vncorenlp, N=10, if_DS=True)"
   ]
  },
  {
   "cell_type": "code",
   "execution_count": 22,
   "metadata": {},
   "outputs": [
    {
     "name": "stdout",
     "output_type": "stream",
     "text": [
      "('cảnh_báo mưa giông', 0.8883680896853625)\n",
      "('mưa giông', 0.8591945264935326)\n",
      "('mưa', 0.8415865989311733)\n",
      "('mưa_rào và giông', 0.8339275678501407)\n",
      "('mưa phổ_biến', 0.8303600016645101)\n",
      "('hiệu_ứng phơn thổi', 0.8255310175430317)\n",
      "('núi và trung_du bắc_bộ', 0.8217809877885686)\n",
      "('ảnh_hưởng nguy_cơ', 0.8188748733931277)\n",
      "('gió tây_nam', 0.8112706759445664)\n",
      "('thiên_tai', 0.8107973133889439)\n"
     ]
    }
   ],
   "source": [
    "for k in keyphrases:\n",
    "    print (k)"
   ]
  },
  {
   "cell_type": "code",
   "execution_count": 11,
   "metadata": {},
   "outputs": [
    {
     "data": {
      "text/plain": [
       "[[('ayern', 'N'),\n",
       "  ('Munich', 'Np'),\n",
       "  ('dễ_dàng', 'A'),\n",
       "  ('đánh_bại', 'V'),\n",
       "  ('đội', 'N'),\n",
       "  ('khách', 'N'),\n",
       "  ('Frankfurt', 'Np'),\n",
       "  ('với', 'E'),\n",
       "  ('tỷ_số', 'N'),\n",
       "  ('đậm', 'A'),\n",
       "  ('để', 'E'),\n",
       "  ('giữ', 'V'),\n",
       "  ('vững', 'A'),\n",
       "  ('ngôi', 'Nc'),\n",
       "  ('đầu_bảng', 'N'),\n",
       "  ('ở', 'E'),\n",
       "  ('Bundesliga', 'Np'),\n",
       "  ('.', 'CH')],\n",
       " [('Sau', 'E'),\n",
       "  ('27', 'M'),\n",
       "  ('vòng', 'N'),\n",
       "  ('đấu', 'V'),\n",
       "  (',', 'CH'),\n",
       "  ('\"', 'CH'),\n",
       "  ('Hùm', 'Np'),\n",
       "  ('xám', 'A'),\n",
       "  ('\"', 'CH'),\n",
       "  ('đã', 'R'),\n",
       "  ('giành', 'V'),\n",
       "  ('được', 'R'),\n",
       "  ('61', 'M'),\n",
       "  ('điểm', 'N'),\n",
       "  (',', 'CH'),\n",
       "  ('cách', 'V'),\n",
       "  ('đội', 'N'),\n",
       "  ('nhì', 'M'),\n",
       "  ('bảng', 'N'),\n",
       "  ('Dortmund', 'Np'),\n",
       "  ('4', 'M'),\n",
       "  ('điểm', 'N'),\n",
       "  ('.', 'CH')]]"
      ]
     },
     "execution_count": 11,
     "metadata": {},
     "output_type": "execute_result"
    }
   ],
   "source": [
    "vncorenlp.pos_tag(text)"
   ]
  },
  {
   "cell_type": "code",
   "execution_count": null,
   "metadata": {},
   "outputs": [],
   "source": []
  }
 ],
 "metadata": {
  "kernelspec": {
   "display_name": "sifrank",
   "language": "python",
   "name": "sifrank"
  },
  "language_info": {
   "codemirror_mode": {
    "name": "ipython",
    "version": 3
   },
   "file_extension": ".py",
   "mimetype": "text/x-python",
   "name": "python",
   "nbconvert_exporter": "python",
   "pygments_lexer": "ipython3",
   "version": "3.7.7"
  }
 },
 "nbformat": 4,
 "nbformat_minor": 2
}
