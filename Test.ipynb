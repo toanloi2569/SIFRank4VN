{
 "cells": [
  {
   "cell_type": "code",
   "execution_count": 1,
   "metadata": {},
   "outputs": [],
   "source": [
    "import time\n",
    "import os\n",
    "\n",
    "from vncorenlp import VnCoreNLP\n",
    "from embeddings import sent_emb_sif, word_emb_phoBert\n",
    "from model.method import SIFRank, SIFRank_plus"
   ]
  },
  {
   "cell_type": "code",
   "execution_count": 2,
   "metadata": {},
   "outputs": [],
   "source": [
    "path = os.path.dirname(os.path.realpath('__file__'))\n",
    "vncorenlp = VnCoreNLP(\n",
    "    path+\"/auxiliary_data/VnCoreNLP-master/VnCoreNLP-1.1.1.jar\", \n",
    "    annotators=\"wseg, pos\", \n",
    "    max_heap_size='-Xmx500m'\n",
    ") "
   ]
  },
  {
   "cell_type": "code",
   "execution_count": 3,
   "metadata": {},
   "outputs": [
    {
     "name": "stdout",
     "output_type": "stream",
     "text": [
      "loading archive file auxiliary_data/PhoBERT_base_fairseq\n",
      "| dictionary: 64000 types\n"
     ]
    }
   ],
   "source": [
    "phoBERT = word_emb_phoBert.WordEmbeddings()\n",
    "SIF = sent_emb_sif.SentEmbeddings(phoBERT, lamda=1.0, embeddings_type='bert')"
   ]
  },
  {
   "cell_type": "code",
   "execution_count": 4,
   "metadata": {},
   "outputs": [],
   "source": [
    "text = '''\n",
    "   Cụ_thể , theo Tổng_cục Hải_quan , để thực_hiện ý_kiến chỉ_đạo của Ban cán_sự Đảng_Bộ Tài_chính tại cuộc họp ngày 26/5/2020 , của Bộ_trưởng Bộ Tài_chính tại công_văn số 6170 / BTC - TCT về công_tác cán_bộ tại Cục Hải_quan tỉnh Bắc_Ninh , Tổng_cục Hải_quan đã có các quyết_định tạm đình_chỉ công_tác 15 ngày ( kể từ ngày 27/5/2020 ) đối_với các trường_hợp sau.Tạm đình_chỉ chức_vụ đối_với ông Trần_Thành_Tô , Cục trưởng Cục Hải_quan tỉnh Bắc_Ninh , người ký quyết_định thành_lập Đoàn kiểm_tra sau thông_quan Công_ty Tenma để tập_trung tổ_chức phục_vụ đoàn Thanh_tra Bộ Tài_chính và rà_soát , kiểm_điểm , làm rõ trách_nhiệm của đoàn này và người đứng đầu liên_quan trong việc kiểm_soát sau thông_quan đối_với Công_ty TNHH Tenma_Việt Nam. Các cá_nhân khác là công_chức của Cục Hải_quan Bắc_Ninh gồm ông Dương_Minh_Khải , Đội_trưởng Đội Kiểm_soát Hải_quan , ông Nguyễn_Văn_Phúc - Phó trưởng phòng Nghiệp_vụ , ông Vũ_Quang Hà , đội_trưởng đội nghiệp_vụ , Chi_cục Hải_quan Bắc_Ninh , ông Nguyễn_Lưu_Bình_Trọng , công_chức Chi_cục Hải_quan cảng nội_địa Tiên_Sơn , bà Nguyễn_Thị_Hảo , công_chức Văn_phòng Cục Hải_quan tỉnh Bắc_Ninh ... Tất_cả các cán_bộ , công_chức trên bị tạm đình_chỉ chức_vụ để kiểm_điểm , làm rõ trách_nhiệm trong việc kiểm_tra sau thông_quan đối_với Công_ty TNHH Tenma_Việt Nam.Cũng trong chiều ngày 26/5 , Bộ Tài_chính chỉ_đạo Tổng_cục Thuế tạm đình_chỉ 15 ngày đối_với lãnh_đạo Cục Thuế_Bắc_Ninh , người ký quyết_định kiểm_tra Công_ty Tenma Việt_Nam , khơi_mào nghi_vấn trốn_thuế của doanh_nghiệp này.Theo đó , Bộ_trưởng Bộ Tài_chính Đinh_Tiến_Dũng yêu_cầu Tổng_cục trưởng Tổng_cục Thuế tạm đình_chỉ công_tác 15 ngày đối_với các công_chức tham_gia đoàn đoàn kiểm_tra thuế.Đồng thời , lãnh_đạo Bộ yêu_cầu Tổng_cục Thuế tạm đình_chỉ lãnh_đạo Cục Thuế tỉnh Bắc_Ninh ký quyết_định thành_lập đoàn kiểm_tra thuế tại Công_ty Tenma Việt_Nam để thực_hiện công_tác kiểm_điểm , phục_vụ công_tác thanh , kiểm_tra theo quy_định khi sự_việc đang được xử lý.Bộ Tài_chính yêu_cầu trong trường_hợp công_chức bị đình_chỉ công_tác là thủ_trưởng đơn_vị , đề_nghị Tổng_cục trưởng , Tổng_cục Thuế lựa_chọn 1 lãnh_đạo để gia phụ_trách điều_hành đơn vị.Như vậy , theo chỉ_đạo của Bộ_trưởng Bộ Tài_chính , Tổng_cục Hải_quan đã tạm đình_chỉ chức_vụ đối_với Cục trưởng Cục Hải_quan Bắc Ninh.Hiện vẫn chưa rõ danh_tính vị lãnh_đạo Cục Thuế_Bắc_Ninh bị lãnh_đạo Bộ Tài_chính chỉ_đạo đình_chỉ chức_vụ . Theo nguồn tin từ Tổng_cục Thuế , ngày_mai 27/5 , Tổng_cục Thuế sẽ có thông_tin chính_thức về các lãnh_đạo và cán_bộ của Cục Thuế_Bắc_Ninh bị đình_chỉ chức_vụ theo đúng tinh_thần chỉ_đạo của Bộ Tài chính.Báo Dân_trí sẽ thông_tin kịp_thời đến độc_giả những diễn_biến mới nhất của vụ_việc .\n",
    "   '''"
   ]
  },
  {
   "cell_type": "code",
   "execution_count": 6,
   "metadata": {},
   "outputs": [
    {
     "name": "stdout",
     "output_type": "stream",
     "text": [
      "[['Cụ_thể', ',', 'theo', 'Tổng_cục', 'Hải_quan', ',', 'để', 'thực_hiện', 'ý_kiến', 'chỉ_đạo', 'của', 'Ban', 'cán_sự', 'Đảng_Bộ', 'Tài_chính', 'tại', 'cuộc', 'họp', 'ngày', '26/5/2020', ',', 'của', 'Bộ_trưởng', 'Bộ', 'Tài_chính', 'tại', 'công_văn', 'số', '6170', '/', 'BTC', '-', 'TCT', 'về', 'công_tác', 'cán_bộ', 'tại', 'Cục', 'Hải_quan', 'tỉnh', 'Bắc_Ninh', ',', 'Tổng_cục', 'Hải_quan', 'đã', 'có', 'các', 'quyết_định', 'tạm', 'đình_chỉ', 'công_tác', '15', 'ngày', '(', 'kể', 'từ', 'ngày', '27/5/2020', ')', 'đối_với', 'các', 'trường_hợp', 'sau', '.', 'Tạm', 'đình_chỉ', 'chức_vụ', 'đối_với', 'ông', 'Trần_Thành_Tô', ',', 'Cục', 'trưởng', 'Cục', 'Hải_quan', 'tỉnh', 'Bắc_Ninh', ',', 'người', 'ký', 'quyết_định', 'thành_lập', 'Đoàn', 'kiểm_tra', 'sau', 'thông_quan', 'Công_ty', 'Tenma', 'để', 'tập_trung', 'tổ_chức', 'phục_vụ', 'đoàn', 'Thanh_tra', 'Bộ', 'Tài_chính', 'và', 'rà_soát', ',', 'kiểm_điểm', ',', 'làm', 'rõ', 'trách_nhiệm', 'của', 'đoàn', 'này', 'và', 'người', 'đứng', 'đầu', 'liên_quan', 'trong', 'việc', 'kiểm_soát', 'sau', 'thông_quan', 'đối_với', 'Công_ty', 'TNHH', 'Tenma', 'Việt_Nam', '.', 'Các', 'cá_nhân', 'khác', 'là', 'công_chức', 'của', 'Cục', 'Hải_quan', 'Bắc_Ninh', 'gồm', 'ông', 'Dương_Minh_Khải', ',', 'Đội_trưởng', 'Đội', 'Kiểm_soát', 'Hải_quan', ',', 'ông', 'Nguyễn_Văn_Phúc', '-', 'Phó', 'trưởng', 'phòng', 'Nghiệp_vụ', ',', 'ông', 'Vũ_Quang', 'Hà', ',', 'đội_trưởng', 'đội', 'nghiệp_vụ', ',', 'Chi_cục', 'Hải_quan', 'Bắc_Ninh', ',', 'ông', 'Nguyễn_Lưu_Bình_Trọng', ',', 'công_chức', 'Chi_cục', 'Hải_quan', 'cảng', 'nội_địa', 'Tiên_Sơn', ',', 'bà', 'Nguyễn_Thị_Hảo', ',', 'công_chức', 'Văn_phòng', 'Cục', 'Hải_quan', 'tỉnh', 'Bắc_Ninh', '.', '.', '.'], ['Tất_cả', 'các', 'cán_bộ', ',', 'công_chức', 'trên', 'bị', 'tạm', 'đình_chỉ', 'chức_vụ', 'để', 'kiểm_điểm', ',', 'làm', 'rõ', 'trách_nhiệm', 'trong', 'việc', 'kiểm_tra', 'sau', 'thông_quan', 'đối_với', 'Công_ty', 'TNHH', 'Tenma', 'Việt_Nam', '.', 'Cũng', 'trong', 'chiều', 'ngày', '26/5', ',', 'Bộ', 'Tài_chính', 'chỉ_đạo', 'Tổng_cục', 'Thuế', 'tạm', 'đình_chỉ', '15', 'ngày', 'đối_với', 'lãnh_đạo', 'Cục', 'Thuế_Bắc_Ninh', ',', 'người', 'ký', 'quyết_định', 'kiểm_tra', 'Công_ty', 'Tenma', 'Việt_Nam', ',', 'khơi_mào', 'nghi_vấn', 'trốn_thuế', 'của', 'doanh_nghiệp', 'này', '.', 'Theo', 'đó', ',', 'Bộ_trưởng', 'Bộ', 'Tài_chính', 'Đinh_Tiến_Dũng', 'yêu_cầu', 'Tổng_cục', 'trưởng', 'Tổng_cục', 'Thuế', 'tạm', 'đình_chỉ', 'công_tác', '15', 'ngày', 'đối_với', 'các', 'công_chức', 'tham_gia', 'đoàn', 'đoàn', 'kiểm_tra', 'thuế', '.', 'Đồng_thời', ',', 'lãnh_đạo', 'Bộ', 'yêu_cầu', 'Tổng_cục', 'Thuế', 'tạm', 'đình_chỉ', 'lãnh_đạo', 'Cục', 'Thuế', 'tỉnh', 'Bắc_Ninh', 'ký', 'quyết_định', 'thành_lập', 'đoàn', 'kiểm_tra', 'thuế', 'tại', 'Công_ty', 'Tenma', 'Việt_Nam', 'để', 'thực_hiện', 'công_tác', 'kiểm_điểm', ',', 'phục_vụ', 'công_tác', 'thanh', ',', 'kiểm_tra', 'theo', 'quy_định', 'khi', 'sự_việc', 'đang', 'được', 'xử_lý', '.', 'Bộ', 'Tài_chính', 'yêu_cầu', 'trong', 'trường_hợp', 'công_chức', 'bị', 'đình_chỉ', 'công_tác', 'là', 'thủ_trưởng', 'đơn_vị', ',', 'đề_nghị', 'Tổng_cục', 'trưởng', ',', 'Tổng_cục', 'Thuế', 'lựa_chọn', '1', 'lãnh_đạo', 'để', 'gia', 'phụ_trách', 'điều_hành', 'đơn_vị', '.', 'Như_vậy', ',', 'theo', 'chỉ_đạo', 'của', 'Bộ_trưởng', 'Bộ', 'Tài_chính', ',', 'Tổng_cục', 'Hải_quan', 'đã', 'tạm', 'đình_chỉ', 'chức_vụ', 'đối_với', 'Cục', 'trưởng', 'Cục', 'Hải_quan', 'Bắc_Ninh', '.', 'Hiện', 'vẫn', 'chưa', 'rõ', 'danh_tính', 'vị', 'lãnh_đạo', 'Cục', 'Thuế_Bắc_Ninh', 'bị', 'lãnh_đạo', 'Bộ', 'Tài_chính', 'chỉ_đạo', 'đình_chỉ', 'chức_vụ', '.'], ['Theo', 'nguồn', 'tin', 'từ', 'Tổng_cục', 'Thuế', ',', 'ngày_mai', '27/5', ',', 'Tổng_cục', 'Thuế', 'sẽ', 'có', 'thông_tin', 'chính_thức', 'về', 'các', 'lãnh_đạo', 'và', 'cán_bộ', 'của', 'Cục', 'Thuế_Bắc_Ninh', 'bị', 'đình_chỉ', 'chức_vụ', 'theo', 'đúng', 'tinh_thần', 'chỉ_đạo', 'của', 'Bộ', 'Tài_chính', '.', 'Báo', 'Dân_trí', 'sẽ', 'thông_tin', 'kịp_thời', 'đến', 'độc_giả', 'những', 'diễn_biến', 'mới', 'nhất', 'của', 'vụ_việc', '.']]\n"
     ]
    }
   ],
   "source": [
    "import re\n",
    "keyphrases = SIFRank_plus(text.replace('_',' ').replace('.', '. '), SIF, vncorenlp, N=15, if_DS=True)"
   ]
  },
  {
   "cell_type": "code",
   "execution_count": 7,
   "metadata": {},
   "outputs": [
    {
     "name": "stdout",
     "output_type": "stream",
     "text": [
      "('tài_chính chỉ_đạo tổng_cục thuế', 0.9968916161042232)\n",
      "('công_ty tnhh tenma việt_nam', 0.9408895161794066)\n",
      "('tài_chính', 0.9249569408070145)\n",
      "('đình_chỉ lãnh_đạo cục thuế tỉnh bắc_ninh', 0.9142250124053172)\n",
      "('danh_tính vị lãnh_đạo cục thuế_bắc_ninh', 0.9107230873429804)\n",
      "('công_chức chi_cục hải_quan cảng nội_địa tiên_sơn', 0.9089178434908762)\n",
      "('công_chức văn_phòng cục hải_quan tỉnh bắc_ninh', 0.8914481875105521)\n",
      "('tổng_cục hải_quan', 0.8748077992947291)\n",
      "('chỉ_đạo tổng_cục thuế', 0.8690224491288665)\n",
      "('đề_nghị tổng_cục trưởng', 0.8602258273365084)\n",
      "('tổng_cục thuế lựa_chọn', 0.8594349138554408)\n",
      "('cục hải_quan tỉnh bắc_ninh', 0.8591536599322636)\n",
      "('chi_cục hải_quan bắc_ninh', 0.8568885332099372)\n",
      "('cục hải_quan bắc_ninh', 0.8522041603102953)\n",
      "('công_chức tham_gia đoàn đoàn kiểm_tra thuế', 0.8514013263322908)\n"
     ]
    }
   ],
   "source": [
    "for k in keyphrases:\n",
    "    print (k)"
   ]
  },
  {
   "cell_type": "code",
   "execution_count": 11,
   "metadata": {},
   "outputs": [
    {
     "data": {
      "text/plain": [
       "[[('ayern', 'N'),\n",
       "  ('Munich', 'Np'),\n",
       "  ('dễ_dàng', 'A'),\n",
       "  ('đánh_bại', 'V'),\n",
       "  ('đội', 'N'),\n",
       "  ('khách', 'N'),\n",
       "  ('Frankfurt', 'Np'),\n",
       "  ('với', 'E'),\n",
       "  ('tỷ_số', 'N'),\n",
       "  ('đậm', 'A'),\n",
       "  ('để', 'E'),\n",
       "  ('giữ', 'V'),\n",
       "  ('vững', 'A'),\n",
       "  ('ngôi', 'Nc'),\n",
       "  ('đầu_bảng', 'N'),\n",
       "  ('ở', 'E'),\n",
       "  ('Bundesliga', 'Np'),\n",
       "  ('.', 'CH')],\n",
       " [('Sau', 'E'),\n",
       "  ('27', 'M'),\n",
       "  ('vòng', 'N'),\n",
       "  ('đấu', 'V'),\n",
       "  (',', 'CH'),\n",
       "  ('\"', 'CH'),\n",
       "  ('Hùm', 'Np'),\n",
       "  ('xám', 'A'),\n",
       "  ('\"', 'CH'),\n",
       "  ('đã', 'R'),\n",
       "  ('giành', 'V'),\n",
       "  ('được', 'R'),\n",
       "  ('61', 'M'),\n",
       "  ('điểm', 'N'),\n",
       "  (',', 'CH'),\n",
       "  ('cách', 'V'),\n",
       "  ('đội', 'N'),\n",
       "  ('nhì', 'M'),\n",
       "  ('bảng', 'N'),\n",
       "  ('Dortmund', 'Np'),\n",
       "  ('4', 'M'),\n",
       "  ('điểm', 'N'),\n",
       "  ('.', 'CH')]]"
      ]
     },
     "execution_count": 11,
     "metadata": {},
     "output_type": "execute_result"
    }
   ],
   "source": [
    "vncorenlp.pos_tag(text)"
   ]
  },
  {
   "cell_type": "code",
   "execution_count": null,
   "metadata": {},
   "outputs": [],
   "source": []
  }
 ],
 "metadata": {
  "kernelspec": {
   "display_name": "sifrank",
   "language": "python",
   "name": "sifrank"
  },
  "language_info": {
   "codemirror_mode": {
    "name": "ipython",
    "version": 3
   },
   "file_extension": ".py",
   "mimetype": "text/x-python",
   "name": "python",
   "nbconvert_exporter": "python",
   "pygments_lexer": "ipython3",
   "version": "3.7.7"
  }
 },
 "nbformat": 4,
 "nbformat_minor": 2
}
